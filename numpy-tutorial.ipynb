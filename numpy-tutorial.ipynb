{
 "cells": [
  {
   "cell_type": "markdown",
   "metadata": {},
   "source": [
    "# NumPy Basics\n",
    "By Nathan Booth\n",
    "\n",
    "## Objectives\n",
    "* Inform new users of the purpose of NumPy\n",
    "* Point to common use cases\n",
    "* Familiarize users with basic array creation, attributes, indexing, slicing, subsetting, and operations.\n",
    "\n",
    "## What is NumPy?\n",
    "It is the foundation of scientific computing in Python because of its speed of execution. Numpy leverages three main concepts:\n",
    "1. Vectorization: operations occur on entire arrays rather than individual elements. (Behind the scenes, efficient C or Fortran code is used in lieu of Python for loops.)\n",
    "2. Broadcasting: vectorizing operations on differently-shaped arrays\n",
    "3. Indexing: accessing and filtering certain values in arrays\n",
    "\n",
    "## What is it for?\n",
    "Jake VanderPlas:\n",
    "> [I]mages–particularly digital images–can be thought of as simply two-dimensional arrays of numbers representing pixel brightness across the area. Sound clips can be thought of as one-dimensional arrays of intensity versus time. Text can be converted in various ways into numerical representations, perhaps binary digits representing the frequency of certain words or pairs of words. No matter what the data are, the first step in making it analyzable will be to transform them into arrays of numbers.\n",
    "\n",
    "This tutorial mostly limits itself to considering 1D and 2D arrays but it mentions higher dimensional arrays."
   ]
  },
  {
   "cell_type": "code",
   "execution_count": 18,
   "metadata": {},
   "outputs": [
    {
     "name": "stdout",
     "output_type": "stream",
     "text": [
      "1.15.1\n"
     ]
    }
   ],
   "source": [
    "import numpy as np\n",
    "print(np.version.version)\n",
    "\n",
    "import matplotlib.pyplot as plt"
   ]
  },
  {
   "cell_type": "markdown",
   "metadata": {},
   "source": [
    "## What are arrays?\n",
    "NumPy's main object is the multi-dimensional array. It's like a Python list but everything inside it must be the same data type. Basically, this allows you to make matrices, which are objects from [Linear Algebra](https://www.khanacademy.org/math/linear-algebra).\n",
    "\n",
    "Recall that everything in Python is an object. Objects have attributes. Numpy arrays are in Python. Therefore, numpy arrays have attritubes!\n",
    "\n",
    "Numpy arrays differ from Python lists, so don't confuse the two. Numpy arrays are optimized for processing speed and their elements have the same data type. Python lists may contain multiple data types, which slows their performance."
   ]
  },
  {
   "cell_type": "markdown",
   "metadata": {},
   "source": [
    "NumPy's array class is called `ndarray`."
   ]
  },
  {
   "cell_type": "code",
   "execution_count": 31,
   "metadata": {},
   "outputs": [
    {
     "name": "stdout",
     "output_type": "stream",
     "text": [
      "<class 'numpy.ndarray'> \n",
      "\n",
      " [6 7 7 8 1 5] \n",
      "\n",
      " [[9 8 9]\n",
      " [4 3 0]\n",
      " [3 5 0]]\n"
     ]
    }
   ],
   "source": [
    "array_1d = np.random.randint(10, size=6)\n",
    "array_2d = np.random.randint(10, size=(3,3))\n",
    "print(type(array_1d), \"\\n\\n\", array_1d, \"\\n\\n\", array_2d)"
   ]
  },
  {
   "cell_type": "markdown",
   "metadata": {},
   "source": [
    "Arrays are simple to create and shape."
   ]
  },
  {
   "cell_type": "code",
   "execution_count": 20,
   "metadata": {},
   "outputs": [
    {
     "name": "stdout",
     "output_type": "stream",
     "text": [
      "<class 'numpy.ndarray'> \n",
      "\n",
      " [[ 0  1  2  3  4]\n",
      " [ 5  6  7  8  9]\n",
      " [10 11 12 13 14]]\n"
     ]
    }
   ],
   "source": [
    "three_by_five = np.arange(15).reshape(3, 5)\n",
    "print(type(three_by_five), '\\n\\n', three_by_five)"
   ]
  },
  {
   "cell_type": "code",
   "execution_count": 21,
   "metadata": {},
   "outputs": [
    {
     "data": {
      "text/plain": [
       "array([[ 0,  1,  2],\n",
       "       [ 3,  4,  5],\n",
       "       [ 6,  7,  8],\n",
       "       [ 9, 10, 11],\n",
       "       [12, 13, 14]])"
      ]
     },
     "execution_count": 21,
     "metadata": {},
     "output_type": "execute_result"
    }
   ],
   "source": [
    "five_by_three = three_by_five.reshape(5, 3)\n",
    "five_by_three"
   ]
  },
  {
   "cell_type": "markdown",
   "metadata": {},
   "source": [
    "Note that the array shape must correspond to a pair of factors for the number of elements in the array. For example, a 12 element array can have a shapes 1x12, 2x6, 3x4, 4x3, 6x2 or 12x1 because their products (i.e. the results of their multiplication) are equal to 12. If a certain shape is required, you can append or prepend 1s or 0s.\n",
    "\n",
    "2-Dimentional array shapes are described by their number of rows by their number of columns (row x column or MxN)."
   ]
  },
  {
   "cell_type": "code",
   "execution_count": 22,
   "metadata": {},
   "outputs": [
    {
     "data": {
      "text/plain": [
       "array([ 0,  1,  2,  3,  4,  5,  6,  7,  8,  9, 10, 11, 12, 13, 14, 15, 16,\n",
       "       17, 18, 19, 20, 21, 22, 23, 24, 25, 26, 27, 28, 29, 30, 31, 32, 33,\n",
       "       34, 35])"
      ]
     },
     "execution_count": 22,
     "metadata": {},
     "output_type": "execute_result"
    }
   ],
   "source": [
    "simple_array = np.arange(36)\n",
    "simple_array"
   ]
  },
  {
   "cell_type": "code",
   "execution_count": 23,
   "metadata": {},
   "outputs": [
    {
     "data": {
      "text/plain": [
       "array([[[ 0,  1,  2],\n",
       "        [ 3,  4,  5],\n",
       "        [ 6,  7,  8],\n",
       "        [ 9, 10, 11]],\n",
       "\n",
       "       [[12, 13, 14],\n",
       "        [15, 16, 17],\n",
       "        [18, 19, 20],\n",
       "        [21, 22, 23]],\n",
       "\n",
       "       [[24, 25, 26],\n",
       "        [27, 28, 29],\n",
       "        [30, 31, 32],\n",
       "        [33, 34, 35]]])"
      ]
     },
     "execution_count": 23,
     "metadata": {},
     "output_type": "execute_result"
    }
   ],
   "source": [
    "nd_array = simple_array.reshape(3,4,3) # number of 2d matrices, rows in 2d matrices, columns in 2d matrices\n",
    "nd_array"
   ]
  },
  {
   "cell_type": "markdown",
   "metadata": {},
   "source": [
    "### Where might you see multi-dimensional data?\n",
    "* Panel data or logitudinal data\n",
    "* color-image data\n",
    "\n",
    "### Array instance variables\n",
    "The most important array data members are:\n",
    "* `ndarray.ndim`: return the number of axes (or dimensions of the array (int)\n",
    "* `ndarray.shape`: return the dimensions of the array (tuple) in the form (n_rows, m_columns), the length of the tuple is the number of axes\n",
    "* `ndarray.size`: return the total number of elements of the array (int)\n",
    "* `ndarray.dtype`: return the [datatype](https://docs.scipy.org/doc/numpy-1.13.0/user/basics.types.html) of the elements of the array\n",
    "* `ndaarray.itemsize`: return the byte size of each element of the array"
   ]
  },
  {
   "cell_type": "code",
   "execution_count": 25,
   "metadata": {},
   "outputs": [
    {
     "name": "stdout",
     "output_type": "stream",
     "text": [
      "three by five array dimensions: 2\n",
      "five by three array dimensions: 2\n",
      "simple array dimensions: 1\n",
      "n-dimensional array dimensions: 3\n"
     ]
    }
   ],
   "source": [
    "print(\"three by five array dimensions:\", three_by_five.ndim)\n",
    "print(\"five by three array dimensions:\", five_by_three.ndim)\n",
    "print(\"simple array dimensions:\", simple_array.ndim)\n",
    "print(\"n-dimensional array dimensions:\", nd_array.ndim)"
   ]
  },
  {
   "cell_type": "code",
   "execution_count": 26,
   "metadata": {},
   "outputs": [
    {
     "data": {
      "text/plain": [
       "(36,)"
      ]
     },
     "execution_count": 26,
     "metadata": {},
     "output_type": "execute_result"
    }
   ],
   "source": [
    "simple_array.shape"
   ]
  },
  {
   "cell_type": "code",
   "execution_count": 27,
   "metadata": {},
   "outputs": [
    {
     "name": "stdout",
     "output_type": "stream",
     "text": [
      "three by five array shape: (3, 5)\n",
      "five by three array shape: (5, 3)\n",
      "simple array shape: (36,)\n",
      "n-dimensional array shape: (3, 4, 3)\n"
     ]
    }
   ],
   "source": [
    "print(\"three by five array shape: \" + str(three_by_five.shape))\n",
    "print(\"five by three array shape: \" + str(five_by_three.shape))\n",
    "print(\"simple array shape: \" + str(simple_array.shape))\n",
    "print(\"n-dimensional array shape: \" + str(nd_array.shape))"
   ]
  },
  {
   "cell_type": "code",
   "execution_count": 28,
   "metadata": {},
   "outputs": [
    {
     "data": {
      "text/plain": [
       "36"
      ]
     },
     "execution_count": 28,
     "metadata": {},
     "output_type": "execute_result"
    }
   ],
   "source": [
    "simple_array.size"
   ]
  },
  {
   "cell_type": "code",
   "execution_count": 29,
   "metadata": {},
   "outputs": [
    {
     "data": {
      "text/plain": [
       "dtype('int32')"
      ]
     },
     "execution_count": 29,
     "metadata": {},
     "output_type": "execute_result"
    }
   ],
   "source": [
    "simple_array.dtype"
   ]
  },
  {
   "cell_type": "code",
   "execution_count": 30,
   "metadata": {},
   "outputs": [
    {
     "data": {
      "text/plain": [
       "4"
      ]
     },
     "execution_count": 30,
     "metadata": {},
     "output_type": "execute_result"
    }
   ],
   "source": [
    "simple_array.itemsize"
   ]
  },
  {
   "cell_type": "markdown",
   "metadata": {},
   "source": [
    "## How do you create arrays?\n",
    "There are several ways to create arrays.\n",
    "1. Create from a Python list or tuple using `np.array`\n",
    "2. Create from with placeholder values with `np.zeros` or `np.ones`\n",
    "3. Create from sequence of numbers with `np.arange`\n",
    "4. Create from a random distribution"
   ]
  },
  {
   "cell_type": "code",
   "execution_count": 10,
   "metadata": {},
   "outputs": [
    {
     "data": {
      "text/plain": [
       "array([2, 3, 4])"
      ]
     },
     "execution_count": 10,
     "metadata": {},
     "output_type": "execute_result"
    }
   ],
   "source": [
    "a = np.array([2,3,4])\n",
    "a"
   ]
  },
  {
   "cell_type": "code",
   "execution_count": 11,
   "metadata": {},
   "outputs": [
    {
     "data": {
      "text/plain": [
       "array([[1, 2, 3],\n",
       "       [4, 5, 6]])"
      ]
     },
     "execution_count": 11,
     "metadata": {},
     "output_type": "execute_result"
    }
   ],
   "source": [
    "b = np.array([(1,2,3), (4,5,6)])\n",
    "b"
   ]
  },
  {
   "cell_type": "code",
   "execution_count": 34,
   "metadata": {},
   "outputs": [
    {
     "data": {
      "text/plain": [
       "array([1., 2., 3.])"
      ]
     },
     "execution_count": 34,
     "metadata": {},
     "output_type": "execute_result"
    }
   ],
   "source": [
    "c = np.array([1,2,3], dtype=float) # specify the data type\n",
    "c"
   ]
  },
  {
   "cell_type": "code",
   "execution_count": 13,
   "metadata": {},
   "outputs": [
    {
     "data": {
      "text/plain": [
       "array([[0., 0., 0., 0., 0.],\n",
       "       [0., 0., 0., 0., 0.]])"
      ]
     },
     "execution_count": 13,
     "metadata": {},
     "output_type": "execute_result"
    }
   ],
   "source": [
    "d = np.zeros((2,5))\n",
    "d"
   ]
  },
  {
   "cell_type": "code",
   "execution_count": 14,
   "metadata": {},
   "outputs": [
    {
     "data": {
      "text/plain": [
       "array([[1, 1],\n",
       "       [1, 1],\n",
       "       [1, 1]])"
      ]
     },
     "execution_count": 14,
     "metadata": {},
     "output_type": "execute_result"
    }
   ],
   "source": [
    "e = np.ones((3,2), dtype=int)\n",
    "e"
   ]
  },
  {
   "cell_type": "code",
   "execution_count": 36,
   "metadata": {},
   "outputs": [
    {
     "data": {
      "text/plain": [
       "array([[ 0,  1,  2,  3,  4],\n",
       "       [ 5,  6,  7,  8,  9],\n",
       "       [10, 11, 12, 13, 14]])"
      ]
     },
     "execution_count": 36,
     "metadata": {},
     "output_type": "execute_result"
    }
   ],
   "source": [
    "f = three_by_five = np.arange(15).reshape(3, 5)\n",
    "three_by_five"
   ]
  },
  {
   "cell_type": "code",
   "execution_count": 35,
   "metadata": {},
   "outputs": [
    {
     "data": {
      "text/plain": [
       "array([[[15, 13, 16],\n",
       "        [17,  5,  9],\n",
       "        [ 3,  0,  5]],\n",
       "\n",
       "       [[ 0, 17, 18],\n",
       "        [ 4,  2, 16],\n",
       "        [ 3,  2, 10]],\n",
       "\n",
       "       [[13, 16,  7],\n",
       "        [ 9,  0, 10],\n",
       "        [18, 11,  2]]])"
      ]
     },
     "execution_count": 35,
     "metadata": {},
     "output_type": "execute_result"
    }
   ],
   "source": [
    "random_fill = np.random.randint(20, size=(3,3,3))\n",
    "random_fill"
   ]
  },
  {
   "cell_type": "code",
   "execution_count": 15,
   "metadata": {},
   "outputs": [
    {
     "name": "stdout",
     "output_type": "stream",
     "text": [
      "[ True False  True  True  True  True  True False False  True]\n",
      "The proportion true: 0.50186\n"
     ]
    }
   ],
   "source": [
    "np.random.seed(123) # for reproducibility\n",
    "\n",
    "binary_array = np.random.choice([True, False], size=100000)\n",
    "print(binary_array[:10])\n",
    "print(\"The proportion true:\", sum(binary_array)/len(binary_array))"
   ]
  },
  {
   "cell_type": "code",
   "execution_count": 16,
   "metadata": {},
   "outputs": [
    {
     "name": "stdout",
     "output_type": "stream",
     "text": [
      "continuous normal distribution slice [ 875.76169451  937.06074512 1248.36087605 1019.10681681  799.8625396\n",
      " 1127.78927271  867.09636066 1011.89323894  915.66392748  783.17649929]\n"
     ]
    },
    {
     "data": {
      "text/plain": [
       "(array([  3.,   7.,   3.,   8.,  17.,  22.,  29.,  49.,  57.,  78., 117.,\n",
       "        137., 193., 241., 310., 313., 399., 478., 471., 560., 581., 584.,\n",
       "        629., 611., 581., 510., 509., 471., 423., 331., 284., 244., 188.,\n",
       "        153., 124.,  81.,  60.,  39.,  32.,  23.,  16.,  15.,   7.,   5.,\n",
       "          2.,   2.,   1.,   0.,   0.,   2.]),\n",
       " array([ 656.0506522,  671.2996936,  686.548735 ,  701.7977764,\n",
       "         717.0468178,  732.2958592,  747.5449006,  762.793942 ,\n",
       "         778.0429834,  793.2920248,  808.5410662,  823.7901076,\n",
       "         839.039149 ,  854.2881904,  869.5372318,  884.7862732,\n",
       "         900.0353146,  915.284356 ,  930.5333974,  945.7824388,\n",
       "         961.0314802,  976.2805216,  991.529563 , 1006.7786044,\n",
       "        1022.0276458, 1037.2766872, 1052.5257286, 1067.77477  ,\n",
       "        1083.0238114, 1098.2728528, 1113.5218942, 1128.7709356,\n",
       "        1144.019977 , 1159.2690184, 1174.5180598, 1189.7671012,\n",
       "        1205.0161426, 1220.265184 , 1235.5142254, 1250.7632668,\n",
       "        1266.0123082, 1281.2613496, 1296.510391 , 1311.7594324,\n",
       "        1327.0084738, 1342.2575152, 1357.5065566, 1372.755598 ,\n",
       "        1388.0046394, 1403.2536808, 1418.5027222]),\n",
       " <a list of 50 Patch objects>)"
      ]
     },
     "execution_count": 16,
     "metadata": {},
     "output_type": "execute_result"
    },
    {
     "data": {
      "image/png": "[encoded data removed]",
      "text/plain": [
       "<Figure size 432x288 with 1 Axes>"
      ]
     },
     "metadata": {},
     "output_type": "display_data"
    }
   ],
   "source": [
    "# np.random.seed(1337)\n",
    "\n",
    "continuous_normal_dist = np.random.normal(1000, 100, 10000)\n",
    "print(\"continuous normal distribution slice\", continuous_normal_dist[:10])\n",
    "plt.hist(continuous_normal_dist, bins=50)"
   ]
  },
  {
   "cell_type": "code",
   "execution_count": 18,
   "metadata": {},
   "outputs": [
    {
     "name": "stdout",
     "output_type": "stream",
     "text": [
      "discete normal distribution slice [ 91. 104.  84. 122. 129.  91. 116.  93.  79. 102.]\n"
     ]
    },
    {
     "data": {
      "text/plain": [
       "(array([   8.,   17.,   66.,  116.,  290.,  419.,  821.,  886., 1461.,\n",
       "        1178., 1509.,  935., 1023.,  531.,  422.,  167.,  102.,   30.,\n",
       "          14.,    5.]),\n",
       " array([ 66. ,  69.5,  73. ,  76.5,  80. ,  83.5,  87. ,  90.5,  94. ,\n",
       "         97.5, 101. , 104.5, 108. , 111.5, 115. , 118.5, 122. , 125.5,\n",
       "        129. , 132.5, 136. ]),\n",
       " <a list of 20 Patch objects>)"
      ]
     },
     "execution_count": 18,
     "metadata": {},
     "output_type": "execute_result"
    },
    {
     "data": {
      "image/png": "[encoded data removed]",
      "text/plain": [
       "<Figure size 432x288 with 1 Axes>"
      ]
     },
     "metadata": {},
     "output_type": "display_data"
    }
   ],
   "source": [
    "# np.random.seed(444)\n",
    "\n",
    "discrete_normal_dist = np.round_(np.random.normal(100, 10, 10000))\n",
    "print(\"discete normal distribution slice\", discrete_normal_dist[:10])\n",
    "plt.hist(discrete_normal_dist, bins=20)"
   ]
  },
  {
   "cell_type": "markdown",
   "metadata": {},
   "source": [
    "## How do you print and interpret arrays?\n",
    "\n",
    "They look like nested lists in base Python with the following layout:\n",
    "* the last axis is printed left to right\n",
    "* the second-to-last axis is printed top to bottom\n",
    "* the remainder are printed top to bottom with each slice separated by an empty line\n",
    "\n",
    "One-dimensional arrays look like rows. Two-dimensional arrays look like matrices. Three-dimensional arrays look like lists of matrices. If an array is too large to print, then ellipses are used to represent the intermediate values, but this can be disabled."
   ]
  },
  {
   "cell_type": "code",
   "execution_count": 44,
   "metadata": {},
   "outputs": [
    {
     "name": "stdout",
     "output_type": "stream",
     "text": [
      "1D:\n",
      " [0 1 2 3 4]\n",
      "\n",
      "2D:\n",
      " [[ 0  1  2]\n",
      " [ 3  4  5]\n",
      " [ 6  7  8]\n",
      " [ 9 10 11]]\n",
      "\n",
      "3D:\n",
      " [[[ 0  1  2  3]\n",
      "  [ 4  5  6  7]\n",
      "  [ 8  9 10 11]]\n",
      "\n",
      " [[12 13 14 15]\n",
      "  [16 17 18 19]\n",
      "  [20 21 22 23]]]\n"
     ]
    }
   ],
   "source": [
    "a = np.arange(5)\n",
    "b = np.arange(12).reshape(4,3)\n",
    "c = np.arange(24).reshape(2,3,4)\n",
    "print(\"1D:\\n\", a)\n",
    "print(\"\\n2D:\\n\", b)\n",
    "print(\"\\n3D:\\n\", c)"
   ]
  },
  {
   "cell_type": "code",
   "execution_count": 46,
   "metadata": {},
   "outputs": [
    {
     "name": "stdout",
     "output_type": "stream",
     "text": [
      "[   0    1    2 ... 9997 9998 9999]\n"
     ]
    }
   ],
   "source": [
    "print(np.arange(10000))"
   ]
  },
  {
   "cell_type": "code",
   "execution_count": 47,
   "metadata": {},
   "outputs": [
    {
     "name": "stdout",
     "output_type": "stream",
     "text": [
      "[[   0    1    2 ...   97   98   99]\n",
      " [ 100  101  102 ...  197  198  199]\n",
      " [ 200  201  202 ...  297  298  299]\n",
      " ...\n",
      " [9700 9701 9702 ... 9797 9798 9799]\n",
      " [9800 9801 9802 ... 9897 9898 9899]\n",
      " [9900 9901 9902 ... 9997 9998 9999]]\n"
     ]
    }
   ],
   "source": [
    "print(np.arange(10000).reshape(100,100))"
   ]
  },
  {
   "cell_type": "markdown",
   "metadata": {},
   "source": [
    "## What can you do with arrays?\n",
    "\n",
    "* basic operations, which operate element-wise\n",
    "* [universal functions](https://docs.scipy.org/doc/numpy/user/quickstart.html#universal-functions)\n",
    "* basic statistics, linear algebra, sorting, and [more](https://docs.scipy.org/doc/numpy/user/quickstart.html#functions-and-methods-overview)"
   ]
  },
  {
   "cell_type": "code",
   "execution_count": 91,
   "metadata": {},
   "outputs": [
    {
     "name": "stdout",
     "output_type": "stream",
     "text": [
      "[20 30 40 50] \n",
      " [1 2 3 4]\n"
     ]
    }
   ],
   "source": [
    "a, b = np.arange(20,51,10), np.arange(1,5)\n",
    "print(a, \"\\n\", b)"
   ]
  },
  {
   "cell_type": "code",
   "execution_count": 96,
   "metadata": {},
   "outputs": [
    {
     "name": "stdout",
     "output_type": "stream",
     "text": [
      "[21 32 43 54] | [21 32 43 54]\n",
      "[19 28 37 46] | [19 28 37 46]\n"
     ]
    }
   ],
   "source": [
    "print(a + b, \"|\", np.add(a, b))\n",
    "print(a - b, \"|\", np.subtract(a, b))"
   ]
  },
  {
   "cell_type": "code",
   "execution_count": 97,
   "metadata": {},
   "outputs": [
    {
     "name": "stdout",
     "output_type": "stream",
     "text": [
      "[ 20  60 120 200] | [ 20  60 120 200]\n"
     ]
    }
   ],
   "source": [
    "print(a * b, \"|\", np.multiply(a, b))"
   ]
  },
  {
   "cell_type": "code",
   "execution_count": 98,
   "metadata": {},
   "outputs": [
    {
     "data": {
      "text/plain": [
       "array([ 1,  4,  9, 16], dtype=int32)"
      ]
     },
     "execution_count": 98,
     "metadata": {},
     "output_type": "execute_result"
    }
   ],
   "source": [
    "b**2"
   ]
  },
  {
   "cell_type": "code",
   "execution_count": 99,
   "metadata": {},
   "outputs": [
    {
     "data": {
      "text/plain": [
       "array([ True,  True, False, False])"
      ]
     },
     "execution_count": 99,
     "metadata": {},
     "output_type": "execute_result"
    }
   ],
   "source": [
    "a <= 30"
   ]
  },
  {
   "cell_type": "code",
   "execution_count": 100,
   "metadata": {},
   "outputs": [
    {
     "data": {
      "text/plain": [
       "array([ 9.12945251, -9.88031624,  7.4511316 , -2.62374854])"
      ]
     },
     "execution_count": 100,
     "metadata": {},
     "output_type": "execute_result"
    }
   ],
   "source": [
    "10*np.sin(a)"
   ]
  },
  {
   "cell_type": "code",
   "execution_count": 66,
   "metadata": {},
   "outputs": [
    {
     "name": "stdout",
     "output_type": "stream",
     "text": [
      "Element-wise product:\n",
      " [[4 0]\n",
      " [0 4]]\n",
      "\n",
      "Matrix product:\n",
      " [[10  8]\n",
      " [ 3  4]]\n",
      "\n",
      "Equivalent matrix product:\n",
      " [[10  8]\n",
      " [ 3  4]]\n"
     ]
    }
   ],
   "source": [
    "C = np.array( [[2,2],\n",
    "               [0,1]] )\n",
    "D = np.array( [[2,0],\n",
    "               [3,4]] )\n",
    "print(\"Element-wise product:\\n\", C*D)\n",
    "print(\"\\nMatrix product:\\n\", C@D)\n",
    "print(\"\\nEquivalent matrix product:\\n\", C.dot(D))"
   ]
  },
  {
   "cell_type": "code",
   "execution_count": 88,
   "metadata": {},
   "outputs": [
    {
     "name": "stdout",
     "output_type": "stream",
     "text": [
      "Mean: 2.25 \n",
      "Median: 2.5 \n",
      "Sandard deviation: 1.48 \n",
      "Correlation coefficient: \n",
      " [[ 1. -1.]\n",
      " [-1.  1.]] \n",
      "Sort: \n",
      " [[0 2]\n",
      " [3 4]]\n"
     ]
    }
   ],
   "source": [
    "print(\"Mean:\", np.mean(D), \"\\n\"\n",
    "      \"Median:\", np.median(D), \"\\n\"\n",
    "      \"Sandard deviation:\", round(np.std(D), 2), \"\\n\"\n",
    "      \"Correlation coefficient:\", \"\\n\", np.corrcoef(D), \"\\n\"\n",
    "      \"Sort:\", \"\\n\", np.sort(D))"
   ]
  },
  {
   "cell_type": "markdown",
   "metadata": {},
   "source": [
    "## Axes\n",
    "\n",
    "In numpy and later, pandas, the 0 axis is the column, vertical or Y axis. The 1 axis is the row, horizontal or X axis.\n",
    "\n",
    "From Jake VanderPlas's book:\n",
    "> The way the axis is specified here can be confusing to users coming from other languages. The axis keyword specifies the dimension of the array that will be collapsed, rather than the dimension that will be returned. So, specifying axis=0 means that the first axis will be collapsed: for two-dimensional arrays, this means that values within each column will be aggregated."
   ]
  },
  {
   "cell_type": "code",
   "execution_count": 26,
   "metadata": {},
   "outputs": [
    {
     "name": "stdout",
     "output_type": "stream",
     "text": [
      "[11 22 33]\n",
      "[ 6 60]\n"
     ]
    }
   ],
   "source": [
    "arr = np.array([[1, 2, 3],\n",
    "                [10, 20, 30]])\n",
    "print(arr.sum(axis=0))\n",
    "\n",
    "print(arr.sum(axis=1))"
   ]
  },
  {
   "cell_type": "markdown",
   "metadata": {},
   "source": [
    "## Broadcasting\n",
    "\n",
    "For arithmetic operations using differently shaped arrays.\n",
    "From the [docs](https://docs.scipy.org/doc/numpy/user/basics.broadcasting.html):\n",
    "> The term broadcasting describes how NumPy treats arrays with different shapes during arithmetic operations. Subject to certain constraints, the smaller array is “broadcast” across the larger array so that they have compatible shapes. Broadcasting provides a means of vectorizing array operations so that looping occurs in C instead of Python.\n",
    "\n",
    "So, \n",
    "\n",
    ">When operating on two arrays, NumPy compares their shapes element-wise. It starts with the trailing dimensions and works its way forward. Two dimensions are compatible when: (1) they are equal, or (2) one of them is 1.\n",
    "\n",
    "By way of example, let's incorporate some light statistics and take the column-wise mean of two samples.\n",
    "\n",
    "### Significance\n",
    "Broadcasting is often used in pandas to transform columns of data."
   ]
  },
  {
   "cell_type": "code",
   "execution_count": 120,
   "metadata": {},
   "outputs": [
    {
     "data": {
      "text/plain": [
       "array([[ 2.00427243, 25.42930295],\n",
       "       [ 2.14873863, 23.90554839],\n",
       "       [ 0.70252564, 13.53998455],\n",
       "       [ 0.77554782, 13.96312506],\n",
       "       [-0.28584278, 25.23633464],\n",
       "       [ 2.20739741, 20.94088939],\n",
       "       [ 3.21851832, 15.78415717],\n",
       "       [ 1.51328429, 18.88297355],\n",
       "       [ 1.93003891, 23.57125643],\n",
       "       [ 1.05229189, 22.68867701]])"
      ]
     },
     "execution_count": 120,
     "metadata": {},
     "output_type": "execute_result"
    }
   ],
   "source": [
    "sample = np.random.normal(loc=[2., 20.], scale=[1., 3.5],\n",
    "                          size=(10, 2))\n",
    "sample"
   ]
  },
  {
   "cell_type": "code",
   "execution_count": 121,
   "metadata": {},
   "outputs": [
    {
     "data": {
      "text/plain": [
       "array([ 1.52667726, 20.39422491])"
      ]
     },
     "execution_count": 121,
     "metadata": {},
     "output_type": "execute_result"
    }
   ],
   "source": [
    "mu = sample.mean(axis=0)\n",
    "mu"
   ]
  },
  {
   "cell_type": "markdown",
   "metadata": {},
   "source": [
    "We can ask how much each observation differs from its respective sample mean by broadcasting the subtracting of `mu` from `sample`."
   ]
  },
  {
   "cell_type": "code",
   "execution_count": 122,
   "metadata": {},
   "outputs": [
    {
     "data": {
      "text/plain": [
       "array([[ 0.47759517,  5.03507804],\n",
       "       [ 0.62206138,  3.51132348],\n",
       "       [-0.82415162, -6.85424037],\n",
       "       [-0.75112944, -6.43109985],\n",
       "       [-1.81252003,  4.84210972],\n",
       "       [ 0.68072016,  0.54666448],\n",
       "       [ 1.69184107, -4.61006775],\n",
       "       [-0.01339297, -1.51125136],\n",
       "       [ 0.40336166,  3.17703152],\n",
       "       [-0.47438537,  2.29445209]])"
      ]
     },
     "execution_count": 122,
     "metadata": {},
     "output_type": "execute_result"
    }
   ],
   "source": [
    "sample - mu"
   ]
  },
  {
   "cell_type": "markdown",
   "metadata": {},
   "source": [
    "We can use broadcasting to standardize each observation relative to its sample. These numbers represent how much the value differs from the sample mean."
   ]
  },
  {
   "cell_type": "code",
   "execution_count": 123,
   "metadata": {},
   "outputs": [
    {
     "data": {
      "text/plain": [
       "array([[ 0.50746767,  1.15921937],\n",
       "       [ 0.66096992,  0.80840737],\n",
       "       [-0.87570045, -1.57804272],\n",
       "       [-0.7981109 , -1.48062364],\n",
       "       [-1.92588909,  1.11479253],\n",
       "       [ 0.72329767,  0.12585784],\n",
       "       [ 1.79766192, -1.06136982],\n",
       "       [-0.01423067, -0.34793341],\n",
       "       [ 0.42859102,  0.73144377],\n",
       "       [-0.50405711,  0.52824868]])"
      ]
     },
     "execution_count": 123,
     "metadata": {},
     "output_type": "execute_result"
    }
   ],
   "source": [
    "(sample - sample.mean(axis=0)) / sample.std(axis=0)"
   ]
  },
  {
   "cell_type": "markdown",
   "metadata": {},
   "source": [
    "## Indexing\n",
    "\n",
    "Access elements using bracket notation. Add brackets for each additional level of dimension."
   ]
  },
  {
   "cell_type": "code",
   "execution_count": 42,
   "metadata": {},
   "outputs": [
    {
     "data": {
      "text/plain": [
       "array([ 0.,  2.,  4.,  7.,  9., 11., 13., 16., 18., 20.])"
      ]
     },
     "execution_count": 42,
     "metadata": {},
     "output_type": "execute_result"
    }
   ],
   "source": [
    "# create an array of 10 numbers evenly spaced from 0 to 20\n",
    "oned_arr = np.round_(np.linspace(0, 20, 10))\n",
    "oned_arr"
   ]
  },
  {
   "cell_type": "code",
   "execution_count": 43,
   "metadata": {},
   "outputs": [
    {
     "data": {
      "text/plain": [
       "2.0"
      ]
     },
     "execution_count": 43,
     "metadata": {},
     "output_type": "execute_result"
    }
   ],
   "source": [
    "oned_arr[1]"
   ]
  },
  {
   "cell_type": "code",
   "execution_count": 64,
   "metadata": {},
   "outputs": [
    {
     "name": "stdout",
     "output_type": "stream",
     "text": [
      "[[ 0.  2.]\n",
      " [ 4.  7.]\n",
      " [ 9. 11.]\n",
      " [13. 16.]\n",
      " [18. 20.]] Select: 11.0\n"
     ]
    }
   ],
   "source": [
    "nd_array = oned_arr.reshape(5,2)\n",
    "print(nd_array, \"Select:\", nd_array[2][1])"
   ]
  },
  {
   "cell_type": "code",
   "execution_count": 61,
   "metadata": {},
   "outputs": [
    {
     "name": "stdout",
     "output_type": "stream",
     "text": [
      "[[[10  1 16 10 18]\n",
      "  [16  2  6  9  2]\n",
      "  [12  9  4  4  9]\n",
      "  [10 12  8  1  5]\n",
      "  [ 7  0  1  3 18]]\n",
      "\n",
      " [[18  8 18  7 10]\n",
      "  [18  3 12 19 13]\n",
      "  [ 0 10  3  6  3]\n",
      "  [ 6 19  2 18 18]\n",
      "  [ 6 11  0  4 13]]] Select: [16  2  6  9  2]\n"
     ]
    }
   ],
   "source": [
    "random_fill = np.random.randint(20, size=(2,5,5))\n",
    "print(random_fill, \"Select:\", random_fill[0][1])"
   ]
  },
  {
   "cell_type": "markdown",
   "metadata": {},
   "source": [
    "### Slicing\n",
    "\n",
    "For one dimensional arrays, slicing is similar to Python list indexing. As you add dimensions, use commas to differentiate between the dimensions you want to slice on. Warning: it gets complicated as we add dimensions to the array."
   ]
  },
  {
   "cell_type": "code",
   "execution_count": 44,
   "metadata": {},
   "outputs": [
    {
     "data": {
      "text/plain": [
       "array([2., 4., 7., 9.])"
      ]
     },
     "execution_count": 44,
     "metadata": {},
     "output_type": "execute_result"
    }
   ],
   "source": [
    "oned_arr[1:5]"
   ]
  },
  {
   "cell_type": "code",
   "execution_count": 47,
   "metadata": {},
   "outputs": [
    {
     "data": {
      "text/plain": [
       "array([[ 0.,  2.],\n",
       "       [ 4.,  7.],\n",
       "       [ 9., 11.],\n",
       "       [13., 16.],\n",
       "       [18., 20.]])"
      ]
     },
     "execution_count": 47,
     "metadata": {},
     "output_type": "execute_result"
    }
   ],
   "source": [
    "nd_array = oned_arr.reshape(5,2)\n",
    "nd_array"
   ]
  },
  {
   "cell_type": "code",
   "execution_count": 49,
   "metadata": {},
   "outputs": [
    {
     "data": {
      "text/plain": [
       "2.0"
      ]
     },
     "execution_count": 49,
     "metadata": {},
     "output_type": "execute_result"
    }
   ],
   "source": [
    "nd_array[0,1]"
   ]
  },
  {
   "cell_type": "code",
   "execution_count": 50,
   "metadata": {},
   "outputs": [
    {
     "data": {
      "text/plain": [
       "4.0"
      ]
     },
     "execution_count": 50,
     "metadata": {},
     "output_type": "execute_result"
    }
   ],
   "source": [
    "nd_array[1,0]"
   ]
  },
  {
   "cell_type": "code",
   "execution_count": 51,
   "metadata": {},
   "outputs": [
    {
     "data": {
      "text/plain": [
       "array([ 2.,  7., 11., 16., 20.])"
      ]
     },
     "execution_count": 51,
     "metadata": {},
     "output_type": "execute_result"
    }
   ],
   "source": [
    "nd_array[:, 1]"
   ]
  },
  {
   "cell_type": "code",
   "execution_count": 52,
   "metadata": {},
   "outputs": [
    {
     "data": {
      "text/plain": [
       "array([ 0.,  4.,  9., 13., 18.])"
      ]
     },
     "execution_count": 52,
     "metadata": {},
     "output_type": "execute_result"
    }
   ],
   "source": [
    "nd_array[:, 0]"
   ]
  },
  {
   "cell_type": "code",
   "execution_count": 53,
   "metadata": {},
   "outputs": [
    {
     "data": {
      "text/plain": [
       "array([ 0.,  4.,  9., 13., 18.])"
      ]
     },
     "execution_count": 53,
     "metadata": {},
     "output_type": "execute_result"
    }
   ],
   "source": [
    "oned_arr[::2]"
   ]
  },
  {
   "cell_type": "code",
   "execution_count": 59,
   "metadata": {},
   "outputs": [
    {
     "name": "stdout",
     "output_type": "stream",
     "text": [
      "[[[ 6 11 18]\n",
      "  [ 7  1  9]\n",
      "  [ 2 18 14]\n",
      "  [ 5  4 18]\n",
      "  [14 18  1]]\n",
      "\n",
      " [[12  0  9]\n",
      "  [16  2  8]\n",
      "  [19 10 16]\n",
      "  [ 1  0  5]\n",
      "  [ 2 15  3]]\n",
      "\n",
      " [[14  5 11]\n",
      "  [19  6  6]\n",
      "  [19  6  2]\n",
      "  [ 6  5  5]\n",
      "  [13  9  4]]\n",
      "\n",
      " [[13 17  3]\n",
      "  [13 19  8]\n",
      "  [13  5 16]\n",
      "  [14  5  1]\n",
      "  [ 5  6 12]]\n",
      "\n",
      " [[10 14  8]\n",
      "  [ 7 13  5]\n",
      "  [15 10  3]\n",
      "  [10 18  3]\n",
      "  [14 18  5]]] Slice for: 2\n"
     ]
    }
   ],
   "source": [
    "random_fill = np.random.randint(20, size=(5,5,3))\n",
    "print(random_fill, \"Slice for:\", random_fill[1,1,1])"
   ]
  },
  {
   "cell_type": "markdown",
   "metadata": {},
   "source": [
    "### Subsetting"
   ]
  },
  {
   "cell_type": "code",
   "execution_count": 110,
   "metadata": {},
   "outputs": [
    {
     "name": "stdout",
     "output_type": "stream",
     "text": [
      "Array: [ 2 16 15 15 18 11 14  7  2 17  3  7] \n",
      "Mask: [ True False False False False False False  True  True False  True  True] \n",
      "Filtered array: [2 7 2 3 7]\n"
     ]
    }
   ],
   "source": [
    "random_fill = np.random.randint(20, size=(12))\n",
    "mask = random_fill <= 10\n",
    "\n",
    "print(\"Array:\", random_fill, \"\\nMask:\", mask, \"\\nFiltered array:\", random_fill[mask])"
   ]
  },
  {
   "cell_type": "markdown",
   "metadata": {},
   "source": [
    "## Recap\n",
    "\n",
    "1. NumPy is the foundation of scientific computing in Python because of the speed of processing.\n",
    "2. Its power comes from enabling vectorized operations, broadcasting operations, and indexing flexibility.\n",
    "3. You will take advantage of vectorized operations, broadcasting, and indexing notation when you clean and manipulate data in pandas.\n",
    "\n",
    "## Resources\n",
    "\n",
    "* [NumPy Manual](https://docs.scipy.org/doc/numpy/index.html)\n",
    "* [User Guide](https://docs.scipy.org/doc/numpy/user/index.html)\n",
    "* Brad Solomon's [numpy guide](https://realpython.com/numpy-array-programming/)\n",
    "* Jake VanderPlas's [NumPy section](https://jakevdp.github.io/PythonDataScienceHandbook/#2.-Introduction-to-NumPy) of his [Python Data Science Handbook](https://jakevdp.github.io/PythonDataScienceHandbook/) (free)\n",
    "* Wes McKinney's [Python for Data Analysis (2nd Edition)](https://github.com/wesm/pydata-book)\n",
    "* Rohit Midha's [tutorial](https://rohitmidha23.github.io/Numpy-Explained/)"
   ]
  }
 ],
 "metadata": {
  "kernelspec": {
   "display_name": "Python 3",
   "language": "python",
   "name": "python3"
  },
  "language_info": {
   "codemirror_mode": {
    "name": "ipython",
    "version": 3
   },
   "file_extension": ".py",
   "mimetype": "text/x-python",
   "name": "python",
   "nbconvert_exporter": "python",
   "pygments_lexer": "ipython3",
   "version": "3.7.0"
  }
 },
 "nbformat": 4,
 "nbformat_minor": 2
}
