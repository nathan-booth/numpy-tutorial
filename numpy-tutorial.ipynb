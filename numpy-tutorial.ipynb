{
 "cells": [
  {
   "cell_type": "markdown",
   "metadata": {},
   "source": [
    "# NumPy\n",
    "## Resources\n",
    "* [NumPy Manual](https://docs.scipy.org/doc/numpy/index.html)\n",
    "* [User Guide](https://docs.scipy.org/doc/numpy/user/index.html)\n",
    "* Brad Solomon's [https://realpython.com/numpy-array-programming/](numpy guide)\n",
    "* Jake VanderPlas's [NumPy section](https://jakevdp.github.io/PythonDataScienceHandbook/#2.-Introduction-to-NumPy) of his [Python Data Science Handbook](https://jakevdp.github.io/PythonDataScienceHandbook/)\n",
    "\n",
    "## What is NumPy?\n",
    "It is the foundation of scientific computing in Python because of its speed of execution. Numpy leverages three main concepts:\n",
    "1. Vectorization: operations occur on entire arrays rather than individual elements. (Behind the scenes, efficient C or Fortran code is used in lieu of Python for loops.)\n",
    "2. Broadcasting: vectorizing operations on differently-shaped arrays\n",
    "3. Indexing"
   ]
  },
  {
   "cell_type": "code",
   "execution_count": 76,
   "metadata": {},
   "outputs": [],
   "source": [
    "import numpy as np\n",
    "np.version.version\n",
    "\n",
    "import matplotlib.pyplot as plt"
   ]
  },
  {
   "cell_type": "markdown",
   "metadata": {},
   "source": [
    "## What are arrays?\n",
    "NumPy's main object is the multi-dimensional array. It's like a Python list but everything inside it must be the same data type. Basically, this allows you to make matrices.\n",
    "\n",
    "Everything in Python is an object. Objects have attributes. Numpy arrays are in Python. Therefore, numpy arrays have attritubes.\n",
    "\n",
    "Numpy arrays differ from Python arrays, so don't confuse the two. Numpy arrays are optimized for processing speed.\n",
    "\n",
    "NumPy's array class is called `ndarray`. The most important methods are:\n",
    "* `ndaaray.ndim`: return the number of axes (or dimensions of the array (int)\n",
    "* `ndarray.shape`: return the dimensions of the array (tuple) in the form (n_rows, m_columns), the length of the tuple is the number of axes\n",
    "* `ndarray.size`: return the total number of elements of the array (int)\n",
    "* `ndarray.dtype`: return the datatype of the elements of the array\n",
    "* `ndaarray.itemsize`: return the byte size of each element of the array\n",
    "\n",
    "Arrays are easy to create and shape."
   ]
  },
  {
   "cell_type": "code",
   "execution_count": 77,
   "metadata": {},
   "outputs": [
    {
     "data": {
      "text/plain": [
       "array([[ 0,  1,  2,  3,  4],\n",
       "       [ 5,  6,  7,  8,  9],\n",
       "       [10, 11, 12, 13, 14]])"
      ]
     },
     "execution_count": 77,
     "metadata": {},
     "output_type": "execute_result"
    }
   ],
   "source": [
    "three_by_five = np.arange(15).reshape(3, 5)\n",
    "three_by_five"
   ]
  },
  {
   "cell_type": "code",
   "execution_count": 78,
   "metadata": {},
   "outputs": [
    {
     "data": {
      "text/plain": [
       "array([[ 0,  1,  2],\n",
       "       [ 3,  4,  5],\n",
       "       [ 6,  7,  8],\n",
       "       [ 9, 10, 11],\n",
       "       [12, 13, 14]])"
      ]
     },
     "execution_count": 78,
     "metadata": {},
     "output_type": "execute_result"
    }
   ],
   "source": [
    "five_by_three = three_by_five.reshape(5, 3)\n",
    "five_by_three"
   ]
  },
  {
   "cell_type": "code",
   "execution_count": 79,
   "metadata": {},
   "outputs": [
    {
     "data": {
      "text/plain": [
       "array([ 0,  1,  2,  3,  4,  5,  6,  7,  8,  9, 10, 11, 12, 13, 14, 15, 16,\n",
       "       17, 18, 19, 20, 21, 22, 23, 24, 25, 26, 27, 28, 29, 30, 31, 32, 33,\n",
       "       34, 35])"
      ]
     },
     "execution_count": 79,
     "metadata": {},
     "output_type": "execute_result"
    }
   ],
   "source": [
    "simple_array = np.arange(36)\n",
    "simple_array"
   ]
  },
  {
   "cell_type": "code",
   "execution_count": 80,
   "metadata": {},
   "outputs": [
    {
     "data": {
      "text/plain": [
       "array([[[ 0,  1,  2],\n",
       "        [ 3,  4,  5],\n",
       "        [ 6,  7,  8],\n",
       "        [ 9, 10, 11]],\n",
       "\n",
       "       [[12, 13, 14],\n",
       "        [15, 16, 17],\n",
       "        [18, 19, 20],\n",
       "        [21, 22, 23]],\n",
       "\n",
       "       [[24, 25, 26],\n",
       "        [27, 28, 29],\n",
       "        [30, 31, 32],\n",
       "        [33, 34, 35]]])"
      ]
     },
     "execution_count": 80,
     "metadata": {},
     "output_type": "execute_result"
    }
   ],
   "source": [
    "nd_array = simple_array.reshape(3,4,3)\n",
    "nd_array"
   ]
  },
  {
   "cell_type": "code",
   "execution_count": 81,
   "metadata": {},
   "outputs": [
    {
     "data": {
      "text/plain": [
       "numpy.ndarray"
      ]
     },
     "execution_count": 81,
     "metadata": {},
     "output_type": "execute_result"
    }
   ],
   "source": [
    "type(simple_array)"
   ]
  },
  {
   "cell_type": "code",
   "execution_count": 82,
   "metadata": {},
   "outputs": [
    {
     "name": "stdout",
     "output_type": "stream",
     "text": [
      "three by five array dimensions: 2\n",
      "five by three array dimensions: 2\n",
      "simple array dimensions: 1\n",
      "n-dimensional array dimensions: 3\n"
     ]
    }
   ],
   "source": [
    "print(\"three by five array dimensions: \" + str(three_by_five.ndim))\n",
    "print(\"five by three array dimensions: \" + str(five_by_three.ndim))\n",
    "print(\"simple array dimensions: \" + str(simple_array.ndim))\n",
    "print(\"n-dimensional array dimensions: \" + str(nd_array.ndim))"
   ]
  },
  {
   "cell_type": "code",
   "execution_count": 83,
   "metadata": {},
   "outputs": [
    {
     "data": {
      "text/plain": [
       "(36,)"
      ]
     },
     "execution_count": 83,
     "metadata": {},
     "output_type": "execute_result"
    }
   ],
   "source": [
    "simple_array.shape"
   ]
  },
  {
   "cell_type": "code",
   "execution_count": 84,
   "metadata": {},
   "outputs": [
    {
     "name": "stdout",
     "output_type": "stream",
     "text": [
      "three by five array shape: (3, 5)\n",
      "five by three array shape: (5, 3)\n",
      "simple array shape: (36,)\n",
      "n-dimensional array shape: (3, 4, 3)\n"
     ]
    }
   ],
   "source": [
    "print(\"three by five array shape: \" + str(three_by_five.shape))\n",
    "print(\"five by three array shape: \" + str(five_by_three.shape))\n",
    "print(\"simple array shape: \" + str(simple_array.shape))\n",
    "print(\"n-dimensional array shape: \" + str(nd_array.shape))"
   ]
  },
  {
   "cell_type": "code",
   "execution_count": 85,
   "metadata": {},
   "outputs": [
    {
     "data": {
      "text/plain": [
       "36"
      ]
     },
     "execution_count": 85,
     "metadata": {},
     "output_type": "execute_result"
    }
   ],
   "source": [
    "simple_array.size"
   ]
  },
  {
   "cell_type": "code",
   "execution_count": 86,
   "metadata": {},
   "outputs": [
    {
     "data": {
      "text/plain": [
       "dtype('int32')"
      ]
     },
     "execution_count": 86,
     "metadata": {},
     "output_type": "execute_result"
    }
   ],
   "source": [
    "simple_array.dtype"
   ]
  },
  {
   "cell_type": "code",
   "execution_count": 87,
   "metadata": {},
   "outputs": [
    {
     "data": {
      "text/plain": [
       "4"
      ]
     },
     "execution_count": 87,
     "metadata": {},
     "output_type": "execute_result"
    }
   ],
   "source": [
    "simple_array.itemsize"
   ]
  },
  {
   "cell_type": "markdown",
   "metadata": {},
   "source": [
    "### Where might you see multi-dimensional data?\n",
    "* Panel data\n",
    "* color-image data\n",
    "\n",
    "## How do you create arrays?\n",
    "There are several ways to create arrays.\n",
    "1. Create from a Python list or tuple using `np.array`\n",
    "2. Create from with placeholder values with `np.zeros` or `np.ones`\n",
    "3. Create from sequence of numbers with `np.arange`\n",
    "4. Create from a random distribution"
   ]
  },
  {
   "cell_type": "code",
   "execution_count": 88,
   "metadata": {},
   "outputs": [
    {
     "data": {
      "text/plain": [
       "array([2, 3, 4])"
      ]
     },
     "execution_count": 88,
     "metadata": {},
     "output_type": "execute_result"
    }
   ],
   "source": [
    "a = np.array([2,3,4])\n",
    "a"
   ]
  },
  {
   "cell_type": "code",
   "execution_count": 89,
   "metadata": {},
   "outputs": [
    {
     "data": {
      "text/plain": [
       "array([[1, 2, 3],\n",
       "       [4, 5, 6]])"
      ]
     },
     "execution_count": 89,
     "metadata": {},
     "output_type": "execute_result"
    }
   ],
   "source": [
    "b = np.array([(1,2,3), (4,5,6)])\n",
    "b"
   ]
  },
  {
   "cell_type": "code",
   "execution_count": 90,
   "metadata": {},
   "outputs": [
    {
     "data": {
      "text/plain": [
       "array([1., 2., 3.])"
      ]
     },
     "execution_count": 90,
     "metadata": {},
     "output_type": "execute_result"
    }
   ],
   "source": [
    "c = np.array([1,2,3], dtype=float)\n",
    "c"
   ]
  },
  {
   "cell_type": "code",
   "execution_count": 91,
   "metadata": {},
   "outputs": [
    {
     "data": {
      "text/plain": [
       "array([[0., 0., 0., 0., 0.],\n",
       "       [0., 0., 0., 0., 0.]])"
      ]
     },
     "execution_count": 91,
     "metadata": {},
     "output_type": "execute_result"
    }
   ],
   "source": [
    "d = np.zeros((2,5))\n",
    "d"
   ]
  },
  {
   "cell_type": "code",
   "execution_count": 92,
   "metadata": {},
   "outputs": [
    {
     "data": {
      "text/plain": [
       "array([[1, 1],\n",
       "       [1, 1],\n",
       "       [1, 1]])"
      ]
     },
     "execution_count": 92,
     "metadata": {},
     "output_type": "execute_result"
    }
   ],
   "source": [
    "e = np.ones((3,2), dtype=int)\n",
    "e"
   ]
  },
  {
   "cell_type": "code",
   "execution_count": 93,
   "metadata": {},
   "outputs": [
    {
     "data": {
      "text/plain": [
       "array([10, 12, 14, 16, 18, 20])"
      ]
     },
     "execution_count": 93,
     "metadata": {},
     "output_type": "execute_result"
    }
   ],
   "source": [
    "f = np.arange(10, 21, 2)\n",
    "f"
   ]
  },
  {
   "cell_type": "code",
   "execution_count": 106,
   "metadata": {},
   "outputs": [
    {
     "name": "stdout",
     "output_type": "stream",
     "text": [
      "[ True False  True  True  True  True  True False False  True]\n",
      "The proportion true: 0.50186\n"
     ]
    }
   ],
   "source": [
    "np.random.seed(123)\n",
    "\n",
    "binary_array = np.random.choice([True, False], size=100000)\n",
    "print(binary_array[:10])\n",
    "print(\"The proportion true:\", sum(binary_array)/len(binary_array))"
   ]
  },
  {
   "cell_type": "code",
   "execution_count": 105,
   "metadata": {},
   "outputs": [
    {
     "name": "stdout",
     "output_type": "stream",
     "text": [
      "continuous normal distribution slice [ 937.27509268 1018.5534167   918.57893353  970.77643603 1200.66844643\n",
      "  883.58447331  867.58554353 1070.8185604   915.69582247  938.93472785]\n"
     ]
    },
    {
     "data": {
      "text/plain": [
       "(array([  3.,   3.,   5.,   6.,  23.,  25.,  34.,  42.,  39.,  73.,  94.,\n",
       "        121., 144., 161., 239., 276., 337., 352., 436., 447., 507., 534.,\n",
       "        487., 563., 538., 518., 495., 468., 464., 423., 370., 350., 295.,\n",
       "        250., 193., 163., 146., 109.,  72.,  58.,  53.,  30.,  18.,  16.,\n",
       "          8.,   4.,   2.,   1.,   4.,   1.]),\n",
       " array([ 671.29435993,  684.88999849,  698.48563705,  712.08127561,\n",
       "         725.67691417,  739.27255273,  752.86819129,  766.46382985,\n",
       "         780.05946841,  793.65510696,  807.25074552,  820.84638408,\n",
       "         834.44202264,  848.0376612 ,  861.63329976,  875.22893832,\n",
       "         888.82457688,  902.42021544,  916.015854  ,  929.61149256,\n",
       "         943.20713111,  956.80276967,  970.39840823,  983.99404679,\n",
       "         997.58968535, 1011.18532391, 1024.78096247, 1038.37660103,\n",
       "        1051.97223959, 1065.56787815, 1079.1635167 , 1092.75915526,\n",
       "        1106.35479382, 1119.95043238, 1133.54607094, 1147.1417095 ,\n",
       "        1160.73734806, 1174.33298662, 1187.92862518, 1201.52426374,\n",
       "        1215.11990229, 1228.71554085, 1242.31117941, 1255.90681797,\n",
       "        1269.50245653, 1283.09809509, 1296.69373365, 1310.28937221,\n",
       "        1323.88501077, 1337.48064933, 1351.07628789]),\n",
       " <a list of 50 Patch objects>)"
      ]
     },
     "execution_count": 105,
     "metadata": {},
     "output_type": "execute_result"
    },
    {
     "data": {
      "image/png": "[encoded data removed]",
      "text/plain": [
       "<Figure size 432x288 with 1 Axes>"
      ]
     },
     "metadata": {
      "needs_background": "light"
     },
     "output_type": "display_data"
    }
   ],
   "source": [
    "# np.random.seed(1337)\n",
    "\n",
    "continuous_normal_dist = np.random.normal(1000, 100, 10000)\n",
    "print(\"continuous normal distribution slice\", continuous_normal_dist[:10])\n",
    "plt.hist(continuous_normal_dist, bins=50)"
   ]
  },
  {
   "cell_type": "code",
   "execution_count": 103,
   "metadata": {},
   "outputs": [
    {
     "name": "stdout",
     "output_type": "stream",
     "text": [
      "discete normal distribution slice [ 94. 102.  92.  97. 120.  88.  87. 107.  92.  94.]\n"
     ]
    },
    {
     "data": {
      "text/plain": [
       "(array([   5.,   12.,   56.,   49.,  119.,  236.,  350.,  380.,  740.,\n",
       "         978.,  757., 1171., 1161., 1058.,  646.,  823.,  604.,  274.,\n",
       "         297.,  147.,   87.,   25.,   16.,    4.,    5.]),\n",
       " array([ 67.  ,  69.72,  72.44,  75.16,  77.88,  80.6 ,  83.32,  86.04,\n",
       "         88.76,  91.48,  94.2 ,  96.92,  99.64, 102.36, 105.08, 107.8 ,\n",
       "        110.52, 113.24, 115.96, 118.68, 121.4 , 124.12, 126.84, 129.56,\n",
       "        132.28, 135.  ]),\n",
       " <a list of 25 Patch objects>)"
      ]
     },
     "execution_count": 103,
     "metadata": {},
     "output_type": "execute_result"
    },
    {
     "data": {
      "image/png": "[encoded data removed]",
      "text/plain": [
       "<Figure size 432x288 with 1 Axes>"
      ]
     },
     "metadata": {
      "needs_background": "light"
     },
     "output_type": "display_data"
    }
   ],
   "source": [
    "# np.random.seed(444)\n",
    "\n",
    "discrete_normal_dist = np.round_(np.random.normal(100, 10, 10000))\n",
    "print(\"discete normal distribution slice\", discrete_normal_dist[:10])\n",
    "plt.hist(discrete_normal_dist, bins=25)"
   ]
  },
  {
   "cell_type": "markdown",
   "metadata": {},
   "source": [
    "## How do you print and interpret arrays?\n",
    "\n",
    "They look like nested lists in base Python with the following layout:\n",
    "* the last axis is printed left to right\n",
    "* the second-to-last axis is printed top to bottom\n",
    "* the remainder are printed top to bottom with each slice separated by an empty line\n",
    "\n",
    "One-dimensional arrays look like rows. Two-dimensional arrays look like matrices. Three-dimensional arrays look like lists of matrices. If an array is too large to print, then ellipses are used to represent the intermediate values, but this can be disabled."
   ]
  },
  {
   "cell_type": "code",
   "execution_count": 44,
   "metadata": {},
   "outputs": [
    {
     "name": "stdout",
     "output_type": "stream",
     "text": [
      "1D:\n",
      " [0 1 2 3 4]\n",
      "\n",
      "2D:\n",
      " [[ 0  1  2]\n",
      " [ 3  4  5]\n",
      " [ 6  7  8]\n",
      " [ 9 10 11]]\n",
      "\n",
      "3D:\n",
      " [[[ 0  1  2  3]\n",
      "  [ 4  5  6  7]\n",
      "  [ 8  9 10 11]]\n",
      "\n",
      " [[12 13 14 15]\n",
      "  [16 17 18 19]\n",
      "  [20 21 22 23]]]\n"
     ]
    }
   ],
   "source": [
    "a = np.arange(5)\n",
    "b = np.arange(12).reshape(4,3)\n",
    "c = np.arange(24).reshape(2,3,4)\n",
    "print(\"1D:\\n\", a)\n",
    "print(\"\\n2D:\\n\", b)\n",
    "print(\"\\n3D:\\n\", c)"
   ]
  },
  {
   "cell_type": "code",
   "execution_count": 46,
   "metadata": {},
   "outputs": [
    {
     "name": "stdout",
     "output_type": "stream",
     "text": [
      "[   0    1    2 ... 9997 9998 9999]\n"
     ]
    }
   ],
   "source": [
    "print(np.arange(10000))"
   ]
  },
  {
   "cell_type": "code",
   "execution_count": 47,
   "metadata": {},
   "outputs": [
    {
     "name": "stdout",
     "output_type": "stream",
     "text": [
      "[[   0    1    2 ...   97   98   99]\n",
      " [ 100  101  102 ...  197  198  199]\n",
      " [ 200  201  202 ...  297  298  299]\n",
      " ...\n",
      " [9700 9701 9702 ... 9797 9798 9799]\n",
      " [9800 9801 9802 ... 9897 9898 9899]\n",
      " [9900 9901 9902 ... 9997 9998 9999]]\n"
     ]
    }
   ],
   "source": [
    "print(np.arange(10000).reshape(100,100))"
   ]
  },
  {
   "cell_type": "markdown",
   "metadata": {},
   "source": [
    "## What can you do with arrays?\n",
    "\n",
    "* basic operations, which operate element-wise\n",
    "* [universal functions](https://docs.scipy.org/doc/numpy/user/quickstart.html#universal-functions)\n",
    "* basic statistics, linear algebra, sorting, and [more](https://docs.scipy.org/doc/numpy/user/quickstart.html#functions-and-methods-overview)"
   ]
  },
  {
   "cell_type": "code",
   "execution_count": 48,
   "metadata": {},
   "outputs": [
    {
     "data": {
      "text/plain": [
       "array([20, 30, 40, 50])"
      ]
     },
     "execution_count": 48,
     "metadata": {},
     "output_type": "execute_result"
    }
   ],
   "source": [
    "a = np.arange(20,51,10)\n",
    "a"
   ]
  },
  {
   "cell_type": "code",
   "execution_count": 51,
   "metadata": {},
   "outputs": [
    {
     "data": {
      "text/plain": [
       "array([1, 2, 3, 4])"
      ]
     },
     "execution_count": 51,
     "metadata": {},
     "output_type": "execute_result"
    }
   ],
   "source": [
    "b = np.arange(1,5)\n",
    "b"
   ]
  },
  {
   "cell_type": "code",
   "execution_count": 53,
   "metadata": {},
   "outputs": [
    {
     "data": {
      "text/plain": [
       "array([19, 28, 37, 46])"
      ]
     },
     "execution_count": 53,
     "metadata": {},
     "output_type": "execute_result"
    }
   ],
   "source": [
    "a - b"
   ]
  },
  {
   "cell_type": "code",
   "execution_count": 54,
   "metadata": {},
   "outputs": [
    {
     "data": {
      "text/plain": [
       "array([ 1,  4,  9, 16], dtype=int32)"
      ]
     },
     "execution_count": 54,
     "metadata": {},
     "output_type": "execute_result"
    }
   ],
   "source": [
    "b**2"
   ]
  },
  {
   "cell_type": "code",
   "execution_count": 56,
   "metadata": {},
   "outputs": [
    {
     "data": {
      "text/plain": [
       "array([ True,  True, False, False])"
      ]
     },
     "execution_count": 56,
     "metadata": {},
     "output_type": "execute_result"
    }
   ],
   "source": [
    "a <= 30"
   ]
  },
  {
   "cell_type": "code",
   "execution_count": 60,
   "metadata": {},
   "outputs": [
    {
     "data": {
      "text/plain": [
       "array([ 9.12945251, -9.88031624,  7.4511316 , -2.62374854])"
      ]
     },
     "execution_count": 60,
     "metadata": {},
     "output_type": "execute_result"
    }
   ],
   "source": [
    "10*np.sin(a)"
   ]
  },
  {
   "cell_type": "code",
   "execution_count": 65,
   "metadata": {},
   "outputs": [
    {
     "name": "stdout",
     "output_type": "stream",
     "text": [
      "Element-wise product:\n",
      " [[4 0]\n",
      " [0 4]]\n",
      "\n",
      "Matrix product:\n",
      " [[10  8]\n",
      " [ 3  4]]\n",
      "\n",
      "Equivalent matrix product:\n",
      " [[10  8]\n",
      " [ 3  4]]\n"
     ]
    }
   ],
   "source": [
    "C = np.array( [[2,2],\n",
    "               [0,1]] )\n",
    "D = np.array( [[2,0],\n",
    "               [3,4]] )\n",
    "print(\"Element-wise product:\\n\", C*D)\n",
    "print(\"\\nMatrix product:\\n\", C@D)\n",
    "print(\"\\nEquivalent matrix product:\\n\", C.dot(D))"
   ]
  },
  {
   "cell_type": "code",
   "execution_count": 66,
   "metadata": {},
   "outputs": [
    {
     "data": {
      "text/plain": [
       "35.0"
      ]
     },
     "execution_count": 66,
     "metadata": {},
     "output_type": "execute_result"
    }
   ],
   "source": [
    "a.mean()"
   ]
  },
  {
   "cell_type": "markdown",
   "metadata": {},
   "source": [
    "## Axes\n",
    "\n",
    "In numpy and later, pandas, the 0 axis is the column, vertical or Y axis. The 1 axis is the row, horizontal or X axis.\n",
    "\n",
    "From Jake VanderPlas's book:\n",
    "> The way the axis is specified here can be confusing to users coming from other languages. The axis keyword specifies the dimension of the array that will be collapsed, rather than the dimension that will be returned. So, specifying axis=0 means that the first axis will be collapsed: for two-dimensional arrays, this means that values within each column will be aggregated."
   ]
  },
  {
   "cell_type": "code",
   "execution_count": 117,
   "metadata": {},
   "outputs": [
    {
     "data": {
      "text/plain": [
       "array([ 6, 60])"
      ]
     },
     "execution_count": 117,
     "metadata": {},
     "output_type": "execute_result"
    }
   ],
   "source": [
    "arr = np.array([[1, 2, 3],\n",
    "                [10, 20, 30]])\n",
    "arr.sum(axis=0)\n",
    "\n",
    "arr.sum(axis=1)"
   ]
  },
  {
   "cell_type": "markdown",
   "metadata": {},
   "source": [
    "## Broadcasting\n",
    "\n",
    "For arithmetic operations using differently shaped arrays.\n",
    "From the [docs](https://docs.scipy.org/doc/numpy/user/basics.broadcasting.html):\n",
    "> The term broadcasting describes how NumPy treats arrays with different shapes during arithmetic operations. Subject to certain constraints, the smaller array is “broadcast” across the larger array so that they have compatible shapes. Broadcasting provides a means of vectorizing array operations so that looping occurs in C instead of Python."
   ]
  },
  {
   "cell_type": "code",
   "execution_count": null,
   "metadata": {},
   "outputs": [],
   "source": []
  }
 ],
 "metadata": {
  "kernelspec": {
   "display_name": "Python 3",
   "language": "python",
   "name": "python3"
  },
  "language_info": {
   "codemirror_mode": {
    "name": "ipython",
    "version": 3
   },
   "file_extension": ".py",
   "mimetype": "text/x-python",
   "name": "python",
   "nbconvert_exporter": "python",
   "pygments_lexer": "ipython3",
   "version": "3.7.0"
  }
 },
 "nbformat": 4,
 "nbformat_minor": 2
}
